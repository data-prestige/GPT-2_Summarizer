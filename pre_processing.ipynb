{
 "cells": [
  {
   "cell_type": "code",
   "execution_count": null,
   "id": "bb22066b",
   "metadata": {
    "lines_to_next_cell": 1
   },
   "outputs": [],
   "source": [
    "import nltk\n",
    "import string\n",
    "from transformers import GPT2Tokenizer\n",
    "nltk.download('stopwords')"
   ]
  },
  {
   "cell_type": "code",
   "execution_count": null,
   "id": "9c21d511",
   "metadata": {},
   "outputs": [],
   "source": [
    "class cleaner_d2v:\n",
    "    @staticmethod\n",
    "    def text_cleaning(text):\n",
    "        \"\"\"\n",
    "        Minima pulitura testuale necessaria all'analisi NLP per la costruzione di embeddings\n",
    "        * Rimuove spazi e linee a capo\n",
    "        * Rimuove la punteggiatura\n",
    "        * Transforma in minuscolo\n",
    "        * Rimuove caratteri speciali come ’ e “\n",
    "        * Rimuove le stopwords (parole inutili)\n",
    "        * Rimuove i numeri\n",
    "        \"\"\"\n",
    "        text = text.replace('\\n', '')\n",
    "        text = text.split()\n",
    "        table = str.maketrans('', '', string.punctuation)\n",
    "        stripped = [w.translate(table) for w in text]\n",
    "        lower_text = [x.lower() for x in stripped]\n",
    "        lower_text = [x.split(\"’\") for x in lower_text]\n",
    "        lower_text = [[x.split('“') for x in y] for y in lower_text]\n",
    "        lower_text = [x for sublist in lower_text for x in sublist]\n",
    "        new_text = [x for sublist in lower_text for x in sublist]\n",
    "        new_text = [x for x in new_text if x != r\"\\x0c\"]\n",
    "        my_stopwords = [\"’\", \"nell’\", \"d\", \"l\", \"’\", \"'\", \"“\", \"\", \"l°\", \"-\", \"l'\"] # questo carattere è un ’ not a ' --> uguale qui “  \"\n",
    "        stopwords = nltk.corpus.stopwords.words('italian') + nltk.corpus.stopwords.words('english') + my_stopwords # sono presenti anche parole inglesi quindi le includiamo\n",
    "\n",
    "        new_text = [c for c in new_text if c not in stopwords] # rimuovo le stopwords dal testo\n",
    "        new_text = [i for i in new_text if not any(char.isdigit() for char in i)] # rimuovo i numeri dal testo perchè non informativi\n",
    "        final_text = list(filter(None, new_text)) # rimuovo gli spazi vuoti tokenizzati\n",
    "\n",
    "        return final_text\n",
    "\n",
    "    @staticmethod\n",
    "    def add_special_tokens():\n",
    "        \"\"\" Returns GPT2 tokenizer after adding separator and padding tokens \"\"\"\n",
    "        tokenizer = GPT2Tokenizer.from_pretrained('LorenzoDeMattei/GePpeTto')\n",
    "        special_tokens = {'pad_token': '<|pad|>', 'sep_token': '<|sep|>'}\n",
    "        num_add_toks = tokenizer.add_special_tokens(special_tokens)\n",
    "        return tokenizer"
   ]
  }
 ],
 "metadata": {
  "jupytext": {
   "cell_metadata_filter": "-all",
   "main_language": "python",
   "notebook_metadata_filter": "-all"
  }
 },
 "nbformat": 4,
 "nbformat_minor": 5
}
